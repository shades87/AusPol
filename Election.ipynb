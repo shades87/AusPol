{
 "cells": [
  {
   "cell_type": "code",
   "execution_count": 77,
   "metadata": {},
   "outputs": [],
   "source": [
    "import random\n",
    "#poll and preference flow class\n",
    "\n",
    "def Poll():\n",
    "    labor = 32\n",
    "    coalition = 37\n",
    "    greens = 15\n",
    "    phon = 6\n",
    "    other = 10\n",
    "\n"
   ]
  },
  {
   "cell_type": "code",
   "execution_count": 78,
   "metadata": {},
   "outputs": [
    {
     "name": "stdout",
     "output_type": "stream",
     "text": [
      "first round: {'coalition': 40482, 'labor': 35212, 'greens': 16599, 'phon': 6707, 'other': 11000}\n",
      "('phon', 6707)\n",
      "('other', 11000)\n",
      "('greens', 16599)\n",
      "final round: {'coalition': 51578, 'labor': 58422}\n"
     ]
    }
   ],
   "source": [
    "#create voter and electorate class\n",
    "class Voter():\n",
    "    def __init__(self, preference):\n",
    "        self.preference = preference\n",
    "\n",
    "class Electorate():\n",
    "    def __init__(self):\n",
    "        preference = \"\"\n",
    "        self.voters=[]\n",
    "        self.first = {\"coalition\": 0, \"labor\": 0, \"greens\": 0, \"phon\": 0, \"other\": 0}\n",
    "\n",
    "        for i in range(110000):\n",
    "            #create 110000 voters in the electorate\n",
    "            intention = random.randint(1,100)\n",
    "            if intention<33:\n",
    "                preference = \"labor\"\n",
    "\n",
    "            elif intention<70:\n",
    "                preference = \"coalition\"\n",
    "\n",
    "            elif intention<85:\n",
    "                preference = \"greens\"\n",
    "            \n",
    "            elif intention<91:\n",
    "                preference = \"phon\"\n",
    "\n",
    "            else:\n",
    "                preference = \"other\"\n",
    "\n",
    "            voter = Voter(preference)\n",
    "            self.voters.append(voter)\n",
    "\n",
    "    def distributePreferences(self):\n",
    "        for x in self.voters:\n",
    "            if x.preference == \"coalition\":\n",
    "                self.first[\"coalition\"] += 1\n",
    "            elif x.preference == \"labor\":\n",
    "                self.first[\"labor\"] += 1\n",
    "            elif x.preference == \"greens\":\n",
    "                self.first[\"greens\"] += 1\n",
    "            elif x.preference == \"phon\":\n",
    "                self.first[\"phon\"] += 1\n",
    "            else:\n",
    "                self.first[\"other\"] += 1\n",
    "\n",
    "        print(\"first round:\", self.first)\n",
    "\n",
    "        while (sum(self.first.values())/2) > max(self.first.values()):\n",
    "            remove = (min(self.first, key=self.first.get), self.first.pop(min(self.first, key=self.first.get))) #get the key value pair that is minimum\n",
    "            print(remove)\n",
    "            \n",
    "            for x in range(remove[1]):\n",
    "                flow = round(random.uniform(0,100), 2)\n",
    "\n",
    "                if remove[0] == \"greens\":\n",
    "                    if flow < 14.4:\n",
    "                        self.first[\"coalition\"] += 1\n",
    "                    else:\n",
    "                        self.first[\"labor\"] += 1\n",
    "\n",
    "                elif remove[0] == \"phon\":\n",
    "                    if flow < 64.31:\n",
    "                        self.first[\"coalition\"] += 1\n",
    "                    else:\n",
    "                        self.first[\"labor\"] += 1\n",
    "                else:\n",
    "                    if flow < 40.11:\n",
    "                        self.first[\"coalition\"] +=1\n",
    "                    else:\n",
    "                        self.first[\"labor\"] += 1\n",
    "\n",
    "        print(\"final round:\", self.first)\n",
    "        \n",
    "\n",
    "\n",
    "electorate = Electorate()\n",
    "len(electorate.voters)\n",
    "electorate.distributePreferences()\n"
   ]
  },
  {
   "cell_type": "code",
   "execution_count": null,
   "metadata": {},
   "outputs": [],
   "source": []
  },
  {
   "cell_type": "code",
   "execution_count": null,
   "metadata": {},
   "outputs": [],
   "source": []
  }
 ],
 "metadata": {
  "kernelspec": {
   "display_name": "Python 3",
   "language": "python",
   "name": "python3"
  },
  "language_info": {
   "codemirror_mode": {
    "name": "ipython",
    "version": 3
   },
   "file_extension": ".py",
   "mimetype": "text/x-python",
   "name": "python",
   "nbconvert_exporter": "python",
   "pygments_lexer": "ipython3",
   "version": "3.12.2"
  }
 },
 "nbformat": 4,
 "nbformat_minor": 2
}
